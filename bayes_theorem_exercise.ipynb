{
 "cells": [
  {
   "cell_type": "code",
   "execution_count": 1,
   "metadata": {},
   "outputs": [],
   "source": [
    "import numpy as np"
   ]
  },
  {
   "cell_type": "markdown",
   "metadata": {
    "ExecuteTime": {
     "end_time": "2020-02-05T17:56:18.818219Z",
     "start_time": "2020-02-05T17:56:18.810698Z"
    }
   },
   "source": [
    "## Exercise 1\n",
    "In Orange County, 51% of the adults are males. (It doesn't take too much advanced\n",
    "mathematics to deduce that the other 49% are females.) One adult is randomly selected\n",
    "for a survey involving credit card usage.\n",
    "\n",
    "- **(a)** Find the probability that the selected person is a male.\n",
    "\n",
    "- **(b)** It is later learned that the selected survey subject was smoking a cigar. Also, 9.5% of males smoke cigars, whereas 1.7% of females smoke cigars (based on data from the Substance Abuse and Mental Health Services Administration). Use this additional information to find the probability that the cigar−smoking respondent is a male\n",
    "\n",
    "Use following notation:\n",
    "M = male <br>\n",
    "F = female <br>\n",
    "C = cigar smoker<br>\n",
    "NC = not a cigar smoker<br>\n"
   ]
  },
  {
   "cell_type": "code",
   "execution_count": 2,
   "metadata": {},
   "outputs": [],
   "source": [
    "n_trials = 1000000\n",
    "\n",
    "def survey_results(trials: int) -> str:\n",
    "    \"\"\"Returns the solutions to a) and b).\"\"\"\n",
    "\n",
    "    M = F = C = NC = M_C = M_NC = F_C = F_NC = 0\n",
    "\n",
    "    for trial in range(trials):\n",
    "        if np.random.random() < 0.51: \n",
    "            M += 1\n",
    "            if np.random.random() < 0.095: C += 1; M_C += 1\n",
    "            else: NC += 1; M_NC += 1\n",
    "                \n",
    "        else:\n",
    "            F += 1\n",
    "            if np.random.random() < 0.017: C += 1; F_C += 1\n",
    "            else: NC += 1; F_NC += 1\n",
    "\n",
    "    return f'a) There is a {M/trials*100:.2f}% chance that the selected person is male.\\nb) There is a {(M_C/trials)/(C/trials)*100:.2f}% chance the cigar-smoking respondant is male.'"
   ]
  },
  {
   "cell_type": "code",
   "execution_count": 3,
   "metadata": {},
   "outputs": [
    {
     "name": "stdout",
     "output_type": "stream",
     "text": [
      "a) There is a 51.03% chance that the selected person is male.\n",
      "b) There is a 85.28% chance the cigar-smoking respondant is male.\n"
     ]
    }
   ],
   "source": [
    "print(survey_results(n_trials))"
   ]
  },
  {
   "cell_type": "code",
   "execution_count": null,
   "metadata": {},
   "outputs": [],
   "source": []
  },
  {
   "cell_type": "markdown",
   "metadata": {
    "ExecuteTime": {
     "end_time": "2020-02-05T17:56:20.532960Z",
     "start_time": "2020-02-05T17:56:20.525450Z"
    }
   },
   "source": [
    "# Exercise 2\n",
    "\n",
    "A diagnostic test has a probability 0.95 of giving a positive result when applied to a person suffering\n",
    "from a certain disease, and a probability 0.10 of giving a (false) positive when applied to a non-sufferer. It is\n",
    "estimated that 0.5 % of the population are sufferers. Suppose that the test is now administered to a person about\n",
    "whom we have no relevant information relating to the disease (apart from the fact that he/she comes from this\n",
    "population). \n",
    "\n",
    "Calculate the following probabilities:\n",
    "- **(a)** that the test result will be positive;\n",
    "- **(b)** that, given a positive result, the person is a sufferer;\n",
    "- **(c)** that, given a negative result, the person is a non-sufferer;\n",
    "- **(d)** that the person will be misclassified.\n",
    "\n",
    "Use following notation:\n",
    "\n",
    "T = test positive <br>\n",
    "NT = test negative<br>\n",
    "S = sufferer<br>\n",
    "NS = non-sufferer<br>\n",
    "M = misclassified<br>\n",
    "\n",
    "Solve it by two approaches:\n",
    "1. Arithmetically\n",
    "2. By simulation"
   ]
  },
  {
   "cell_type": "markdown",
   "metadata": {},
   "source": [
    "1)\n",
    "$P(T \\mid S) = 0.95$  \n",
    "\n",
    "$P(T \\mid NS) = 0.10$  \n",
    "\n",
    "$P(S) = 0.005$  \n",
    "\n",
    "$P(NS) = 1 - P(S) = 0.995$  \n",
    "\n",
    "$P(T) = 0.10425$  \n",
    "\n",
    "$P(NT) = 1 - P(T) = 0.89575$"
   ]
  },
  {
   "cell_type": "markdown",
   "metadata": {},
   "source": [
    "a)  \n",
    "$$P(T) = P(T \\mid S) P(S) + P(T \\mid NS) P(NS)$$\n",
    "$$= P(T \\cap S) + P(T \\cap NS)$$ \n",
    "$$= 0.00475 + (0.1 * 0.995) = 0.00475 + 0.0995 = 0.10425$$\n",
    "\n",
    "b)  \n",
    "$$P(S \\mid T) = \\frac{P(T \\cap S)}{P(T)} = \\frac{0.00475}{0.10425} = 0.04556$$  \n",
    "\n",
    "c)  \n",
    "$$P(NS \\mid NT) = \\frac{P(NT \\cap NS)}{P(NT)} = \\frac{P(NS) - P(T \\cap NS)}{P(NT)} = \\frac{0.995 - 0.0995}{0.89575} = 0.9997$$  \n",
    "\n",
    "d)  \n",
    "$$P(M) = P(T \\cap NS) + P(NT \\cap S) = 0.0995 + (P(NT) - P(NT \\cap NS)) = 0.0995 + 0.00025 = 0.09975$$"
   ]
  },
  {
   "cell_type": "code",
   "execution_count": 8,
   "metadata": {},
   "outputs": [],
   "source": [
    "def test_results(trials: int) -> str:\n",
    "    \"\"\"Returns the solutions to a), b), c), and d).\"\"\"\n",
    "\n",
    "    T = NT = S = NS = M = T_NS = T_S = NT_S = NT_NS = 0\n",
    "\n",
    "    for trial in range(trials):\n",
    "        if np.random.random() < 0.005: \n",
    "            S += 1\n",
    "            if np.random.random() < 0.95: T += 1; T_S += 1\n",
    "            else: NT += 1; NT_S += 1; M += 1\n",
    "                \n",
    "        else:\n",
    "            NS += 1\n",
    "            if np.random.random() < 0.10: T += 1; T_NS += 1; M += 1\n",
    "            else: NT += 1; NT_NS += 1\n",
    "\n",
    "    return f'a) There is a {T/trials*100:.2f}% chance that the test result is positive.\\nb) There is a {(T_S/trials)/(T/trials)*100:.2f}% chance the person suffers from the disease given a positive test result.\\nc) There is a {(NT_NS/trials)/(NT/trials)*100:.2f}% chance the person does not suffer from the disease given a negative test result.\\nd) There is a {M/trials*100:.2f}% chance that a person will be misclassified.'"
   ]
  },
  {
   "cell_type": "code",
   "execution_count": 9,
   "metadata": {},
   "outputs": [
    {
     "name": "stdout",
     "output_type": "stream",
     "text": [
      "a) There is a 10.45% chance that the test result is positive.\n",
      "b) There is a 4.57% chance the person suffers from the disease given a positive test result.\n",
      "c) There is a 99.97% chance the person does not suffer from the disease given a negative test result.\n",
      "d) There is a 10.00% chance that a person will be misclassified.\n"
     ]
    }
   ],
   "source": [
    "print(test_results(n_trials))"
   ]
  },
  {
   "cell_type": "code",
   "execution_count": null,
   "metadata": {},
   "outputs": [],
   "source": []
  }
 ],
 "metadata": {
  "interpreter": {
   "hash": "3c65cb42372d50da30584ee8e41e7a8159294c20fb842b6953e4488c68a49248"
  },
  "kernelspec": {
   "display_name": "Python 3.7.10 64-bit ('base': conda)",
   "name": "python3"
  },
  "language_info": {
   "codemirror_mode": {
    "name": "ipython",
    "version": 3
   },
   "file_extension": ".py",
   "mimetype": "text/x-python",
   "name": "python",
   "nbconvert_exporter": "python",
   "pygments_lexer": "ipython3",
   "version": "3.7.10"
  },
  "toc": {
   "base_numbering": 1,
   "nav_menu": {},
   "number_sections": true,
   "sideBar": true,
   "skip_h1_title": false,
   "title_cell": "Table of Contents",
   "title_sidebar": "Contents",
   "toc_cell": false,
   "toc_position": {},
   "toc_section_display": true,
   "toc_window_display": false
  },
  "varInspector": {
   "cols": {
    "lenName": 16,
    "lenType": 16,
    "lenVar": 40
   },
   "kernels_config": {
    "python": {
     "delete_cmd_postfix": "",
     "delete_cmd_prefix": "del ",
     "library": "var_list.py",
     "varRefreshCmd": "print(var_dic_list())"
    },
    "r": {
     "delete_cmd_postfix": ") ",
     "delete_cmd_prefix": "rm(",
     "library": "var_list.r",
     "varRefreshCmd": "cat(var_dic_list()) "
    }
   },
   "types_to_exclude": [
    "module",
    "function",
    "builtin_function_or_method",
    "instance",
    "_Feature"
   ],
   "window_display": false
  }
 },
 "nbformat": 4,
 "nbformat_minor": 4
}
