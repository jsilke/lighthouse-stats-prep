{
 "cells": [
  {
   "cell_type": "code",
   "execution_count": 1,
   "metadata": {
    "ExecuteTime": {
     "end_time": "2020-02-05T17:54:42.062131Z",
     "start_time": "2020-02-05T17:54:41.626763Z"
    }
   },
   "outputs": [],
   "source": [
    "# import numpy\n",
    "import numpy as np\n",
    "\n",
    "# import matplotlib.pyplot\n",
    "import matplotlib.pyplot as plt\n",
    "\n",
    "# import Counter\n",
    "from collections import Counter\n",
    "\n",
    "# use style 'fivethirtyeight' (optional)\n",
    "plt.style.use('fivethirtyeight')"
   ]
  },
  {
   "cell_type": "markdown",
   "metadata": {
    "ExecuteTime": {
     "end_time": "2020-02-05T17:54:42.113199Z",
     "start_time": "2020-02-05T17:54:42.101587Z"
    }
   },
   "source": [
    "#### Create function `perform_bernoulli_trial` with parameters n and p\n",
    "\n",
    "PARAMS:\n",
    "- n (int) - number of trials\n",
    "- p (float) - probability of success\n",
    "\n",
    "RETURNS:\n",
    "- n_success (int) - number of successes\n",
    "\n"
   ]
  },
  {
   "cell_type": "code",
   "execution_count": 26,
   "metadata": {},
   "outputs": [],
   "source": [
    "def perform_bernoulli_trial(n: int = 1, p: float = 0.5) -> int:\n",
    "    \"\"\"\n",
    "    samples \n",
    "    \"\"\"\n",
    "    n_successes = np.random.binomial(n, p)\n",
    "    return n_successes"
   ]
  },
  {
   "cell_type": "code",
   "execution_count": null,
   "metadata": {},
   "outputs": [],
   "source": []
  },
  {
   "cell_type": "markdown",
   "metadata": {
    "ExecuteTime": {
     "end_time": "2020-02-05T17:54:42.610756Z",
     "start_time": "2020-02-05T17:54:42.602316Z"
    }
   },
   "source": [
    "#### Use function `perform_bernoulli_trial` with inputs n = 100, p = 0.5"
   ]
  },
  {
   "cell_type": "code",
   "execution_count": 27,
   "metadata": {},
   "outputs": [
    {
     "data": {
      "text/plain": [
       "42"
      ]
     },
     "execution_count": 27,
     "metadata": {},
     "output_type": "execute_result"
    }
   ],
   "source": [
    "perform_bernoulli_trial(100,0.5)"
   ]
  },
  {
   "cell_type": "code",
   "execution_count": null,
   "metadata": {},
   "outputs": [],
   "source": []
  },
  {
   "cell_type": "markdown",
   "metadata": {
    "ExecuteTime": {
     "end_time": "2020-02-05T17:54:43.020097Z",
     "start_time": "2020-02-05T17:54:42.962800Z"
    }
   },
   "source": [
    "#### Call function _perform_bernoulli_trial_ 1000-times with same parameters as before and store the result in `successes_list`"
   ]
  },
  {
   "cell_type": "code",
   "execution_count": 34,
   "metadata": {},
   "outputs": [],
   "source": [
    "size = 1000\n",
    "successes_list = [perform_bernoulli_trial(100,0.5) for trial in range(size)]"
   ]
  },
  {
   "cell_type": "code",
   "execution_count": 35,
   "metadata": {},
   "outputs": [
    {
     "name": "stdout",
     "output_type": "stream",
     "text": [
      "[61, 50, 59, 43, 41, 53, 50, 47, 53, 58, 45, 48, 50, 53, 48, 46, 54, 49, 53, 47, 59, 50, 45, 62, 50, 51, 54, 54, 53, 54, 50, 49, 47, 50, 55, 48, 57, 50, 49, 63, 52, 38, 50, 52, 59, 44, 54, 50, 50, 50, 45, 60, 48, 47, 51, 51, 57, 50, 47, 53, 51, 56, 50, 45, 53, 61, 65, 50, 45, 43, 55, 48, 43, 49, 44, 51, 47, 52, 60, 58, 49, 45, 55, 57, 47, 58, 55, 57, 50, 49, 42, 48, 49, 46, 45, 48, 55, 53, 48, 48, 49, 48, 46, 44, 49, 53, 44, 60, 46, 45, 59, 49, 43, 44, 48, 48, 60, 46, 50, 54, 45, 55, 46, 49, 48, 53, 48, 47, 54, 55, 50, 43, 44, 47, 48, 58, 54, 45, 49, 45, 50, 44, 53, 47, 53, 40, 53, 55, 39, 50, 55, 49, 47, 52, 47, 53, 57, 52, 52, 44, 55, 46, 43, 49, 50, 62, 54, 51, 39, 52, 52, 45, 47, 55, 46, 54, 52, 51, 54, 54, 42, 42, 51, 50, 48, 53, 57, 44, 53, 48, 45, 56, 53, 46, 45, 47, 44, 49, 60, 56, 55, 50, 48, 54, 56, 50, 49, 39, 48, 46, 49, 45, 43, 43, 57, 39, 56, 61, 53, 43, 55, 47, 47, 54, 45, 44, 45, 46, 56, 57, 49, 52, 52, 51, 45, 51, 48, 55, 55, 51, 51, 51, 48, 55, 48, 53, 43, 51, 51, 50, 63, 46, 52, 57, 45, 39, 57, 47, 55, 53, 54, 46, 49, 50, 58, 59, 42, 52, 54, 50, 46, 56, 53, 41, 42, 50, 55, 48, 46, 49, 57, 37, 53, 54, 41, 37, 46, 50, 44, 56, 50, 48, 46, 45, 53, 53, 41, 41, 45, 49, 49, 51, 53, 46, 49, 52, 56, 59, 50, 45, 48, 55, 54, 41, 47, 49, 54, 53, 52, 49, 42, 55, 44, 46, 45, 46, 60, 53, 50, 50, 55, 44, 57, 47, 47, 55, 51, 55, 51, 59, 46, 52, 52, 53, 56, 61, 50, 56, 53, 47, 59, 59, 43, 51, 50, 48, 46, 56, 37, 48, 46, 49, 46, 52, 46, 52, 48, 53, 45, 53, 55, 51, 58, 59, 43, 46, 44, 53, 49, 52, 51, 50, 51, 42, 44, 48, 45, 52, 54, 56, 46, 49, 51, 55, 51, 35, 52, 51, 54, 44, 53, 57, 50, 51, 55, 53, 48, 52, 41, 46, 51, 54, 51, 53, 50, 46, 56, 45, 48, 45, 45, 49, 51, 41, 49, 55, 38, 48, 47, 54, 50, 60, 52, 51, 37, 47, 45, 47, 50, 49, 57, 50, 51, 50, 35, 42, 56, 51, 52, 60, 55, 50, 50, 44, 46, 48, 59, 45, 57, 52, 49, 52, 45, 53, 55, 48, 53, 51, 57, 49, 43, 55, 52, 47, 51, 56, 46, 41, 39, 52, 43, 54, 51, 53, 53, 49, 43, 50, 55, 47, 50, 50, 59, 51, 50, 43, 53, 54, 46, 48, 53, 47, 60, 59, 54, 65, 45, 46, 52, 57, 52, 50, 51, 51, 44, 52, 49, 56, 51, 46, 47, 54, 49, 56, 37, 47, 48, 54, 49, 53, 61, 54, 48, 44, 51, 50, 50, 57, 44, 60, 54, 53, 42, 52, 54, 48, 52, 48, 43, 50, 37, 49, 45, 47, 53, 57, 47, 48, 47, 40, 40, 52, 46, 47, 47, 55, 45, 43, 44, 52, 53, 50, 53, 41, 46, 50, 51, 50, 54, 50, 55, 53, 51, 45, 45, 47, 45, 52, 53, 58, 54, 47, 46, 43, 49, 56, 38, 37, 46, 52, 52, 43, 50, 52, 54, 57, 59, 52, 48, 49, 47, 52, 47, 47, 48, 49, 51, 52, 52, 41, 42, 43, 50, 60, 46, 49, 54, 48, 59, 54, 43, 55, 59, 38, 45, 48, 47, 47, 55, 37, 44, 53, 43, 60, 47, 57, 56, 57, 50, 49, 53, 56, 46, 58, 58, 49, 44, 45, 44, 44, 50, 57, 42, 46, 56, 56, 46, 48, 51, 49, 52, 58, 47, 52, 43, 47, 49, 53, 44, 45, 44, 51, 56, 47, 46, 42, 47, 61, 38, 54, 42, 52, 53, 48, 50, 53, 57, 41, 38, 45, 49, 56, 61, 46, 61, 53, 50, 56, 43, 53, 51, 50, 49, 42, 58, 47, 37, 53, 55, 53, 49, 43, 48, 46, 51, 57, 40, 49, 45, 53, 43, 47, 56, 54, 44, 54, 48, 52, 60, 44, 53, 50, 46, 55, 59, 49, 47, 41, 49, 52, 54, 66, 42, 50, 49, 56, 54, 53, 51, 57, 51, 51, 47, 47, 49, 50, 49, 48, 56, 48, 43, 40, 48, 47, 53, 47, 49, 48, 42, 55, 46, 45, 45, 46, 47, 46, 62, 47, 47, 51, 49, 51, 41, 44, 50, 40, 52, 49, 51, 51, 55, 55, 52, 51, 58, 48, 56, 50, 51, 53, 46, 55, 51, 52, 56, 52, 44, 50, 47, 48, 51, 52, 47, 56, 55, 49, 42, 49, 51, 51, 53, 50, 46, 50, 54, 57, 47, 54, 49, 46, 47, 58, 54, 50, 37, 46, 46, 47, 45, 49, 52, 51, 52, 56, 50, 49, 49, 56, 46, 42, 54, 63, 54, 43, 46, 53, 54, 45, 56, 58, 47, 44, 58, 47, 51, 47, 52, 51, 48, 51, 53, 51, 55, 57, 50, 48, 48, 57, 44, 53, 47, 46, 58, 44, 48, 47, 50, 53, 47, 47, 48, 40, 50, 50, 50, 48, 57, 57, 50, 42, 51, 48, 49, 45, 51, 46, 50, 49, 51, 42, 57, 49, 43, 49, 50, 54, 48, 41, 43, 58, 46, 45, 53, 60, 50, 48, 55, 47, 58, 42, 54, 55, 54, 48, 53, 43, 46, 53, 41, 55, 49, 45, 40, 47, 58, 47, 44, 48, 48, 46, 47, 48, 55, 52, 55, 51, 54, 47, 53, 41, 47, 54, 45, 54, 51, 42, 56, 47, 48, 58, 49, 55, 51, 45, 55, 57, 47, 55, 54, 53, 50, 55, 50, 46, 56, 51, 47, 48, 47, 52] 1000\n"
     ]
    }
   ],
   "source": [
    "print(successes_list, len(successes_list))"
   ]
  },
  {
   "cell_type": "markdown",
   "metadata": {
    "ExecuteTime": {
     "end_time": "2020-02-05T17:54:43.296477Z",
     "start_time": "2020-02-05T17:54:43.289959Z"
    }
   },
   "source": [
    "#### Count occurence of each number from `successes_list` using Counter and store the result in `count_occurence`\n",
    "\n",
    "You can find for more info about Counter [**here**](https://docs.python.org/2/library/collections.html#collections.Counter)."
   ]
  },
  {
   "cell_type": "code",
   "execution_count": 36,
   "metadata": {},
   "outputs": [],
   "source": [
    "count_occurence = Counter(successes_list)"
   ]
  },
  {
   "cell_type": "code",
   "execution_count": 37,
   "metadata": {},
   "outputs": [
    {
     "data": {
      "text/plain": [
       "Counter({61: 8,\n",
       "         50: 84,\n",
       "         59: 17,\n",
       "         43: 32,\n",
       "         41: 17,\n",
       "         53: 72,\n",
       "         47: 78,\n",
       "         58: 20,\n",
       "         45: 51,\n",
       "         48: 69,\n",
       "         46: 62,\n",
       "         54: 54,\n",
       "         49: 70,\n",
       "         62: 3,\n",
       "         51: 72,\n",
       "         55: 52,\n",
       "         57: 33,\n",
       "         63: 3,\n",
       "         52: 59,\n",
       "         38: 6,\n",
       "         44: 36,\n",
       "         60: 14,\n",
       "         56: 37,\n",
       "         65: 2,\n",
       "         42: 22,\n",
       "         40: 8,\n",
       "         39: 6,\n",
       "         37: 10,\n",
       "         35: 2,\n",
       "         66: 1})"
      ]
     },
     "execution_count": 37,
     "metadata": {},
     "output_type": "execute_result"
    }
   ],
   "source": [
    "count_occurence"
   ]
  },
  {
   "cell_type": "markdown",
   "metadata": {
    "ExecuteTime": {
     "end_time": "2020-02-05T17:54:43.571225Z",
     "start_time": "2020-02-05T17:54:43.568147Z"
    }
   },
   "source": [
    "#### Count the probability for each number from `count_occurence` and store the result in `probas`\n"
   ]
  },
  {
   "cell_type": "code",
   "execution_count": 38,
   "metadata": {},
   "outputs": [],
   "source": [
    "probas = [value/size for value in count_occurence.values()]"
   ]
  },
  {
   "cell_type": "code",
   "execution_count": 39,
   "metadata": {},
   "outputs": [
    {
     "data": {
      "text/plain": [
       "[0.008,\n",
       " 0.084,\n",
       " 0.017,\n",
       " 0.032,\n",
       " 0.017,\n",
       " 0.072,\n",
       " 0.078,\n",
       " 0.02,\n",
       " 0.051,\n",
       " 0.069,\n",
       " 0.062,\n",
       " 0.054,\n",
       " 0.07,\n",
       " 0.003,\n",
       " 0.072,\n",
       " 0.052,\n",
       " 0.033,\n",
       " 0.003,\n",
       " 0.059,\n",
       " 0.006,\n",
       " 0.036,\n",
       " 0.014,\n",
       " 0.037,\n",
       " 0.002,\n",
       " 0.022,\n",
       " 0.008,\n",
       " 0.006,\n",
       " 0.01,\n",
       " 0.002,\n",
       " 0.001]"
      ]
     },
     "execution_count": 39,
     "metadata": {},
     "output_type": "execute_result"
    }
   ],
   "source": [
    "probas"
   ]
  },
  {
   "cell_type": "markdown",
   "metadata": {},
   "source": [
    "Below you have some information about how to do plots in Python. We will be covering all of this during the bootcamp. But you can find these basics here so we can visualize the distributions."
   ]
  },
  {
   "cell_type": "code",
   "execution_count": 40,
   "metadata": {
    "ExecuteTime": {
     "end_time": "2020-02-05T17:54:44.056628Z",
     "start_time": "2020-02-05T17:54:43.850076Z"
    }
   },
   "outputs": [
    {
     "data": {
      "text/plain": [
       "Text(0, 0.5, 'probability')"
      ]
     },
     "execution_count": 40,
     "metadata": {},
     "output_type": "execute_result"
    },
    {
     "data": {
      "image/png": "[encoded data removed]",
      "text/plain": [
       "<Figure size 432x288 with 1 Axes>"
      ]
     },
     "metadata": {},
     "output_type": "display_data"
    }
   ],
   "source": [
    "# plot distribution (PMF) of 'succes_list'\n",
    "plt.scatter(x=count_occurence.keys(), y=probas)\n",
    "plt.xlabel('number of succeess out of 100')\n",
    "plt.ylabel('probability')\n"
   ]
  },
  {
   "cell_type": "markdown",
   "metadata": {
    "ExecuteTime": {
     "end_time": "2020-02-05T17:54:44.112264Z",
     "start_time": "2020-02-05T17:54:44.096570Z"
    }
   },
   "source": [
    "#### Generate 100000 numbers from uniform distribution with parameters a = 1, b = 6\n"
   ]
  },
  {
   "cell_type": "code",
   "execution_count": 42,
   "metadata": {},
   "outputs": [],
   "source": [
    "a = 1\n",
    "b = 6\n",
    "size = 100000\n",
    "uniform = np.random.uniform(a, b, size)"
   ]
  },
  {
   "cell_type": "code",
   "execution_count": null,
   "metadata": {},
   "outputs": [],
   "source": []
  },
  {
   "cell_type": "code",
   "execution_count": 43,
   "metadata": {
    "ExecuteTime": {
     "end_time": "2020-02-05T17:54:44.515039Z",
     "start_time": "2020-02-05T17:54:44.330746Z"
    },
    "collapsed": true,
    "jupyter": {
     "outputs_hidden": true
    }
   },
   "outputs": [
    {
     "data": {
      "text/plain": [
       "Text(0.5, 0, 'value')"
      ]
     },
     "execution_count": 43,
     "metadata": {},
     "output_type": "execute_result"
    },
    {
     "data": {
      "image/png": "[encoded data removed]",
      "text/plain": [
       "<Figure size 432x288 with 1 Axes>"
      ]
     },
     "metadata": {},
     "output_type": "display_data"
    }
   ],
   "source": [
    "# plot histogram of uniform distribution with paramsdensity=True, bins=6\n",
    "plt.hist(uniform, density=True, bins=6)\n",
    "plt.ylabel('density')\n",
    "plt.xlabel('value')"
   ]
  },
  {
   "cell_type": "markdown",
   "metadata": {
    "ExecuteTime": {
     "end_time": "2020-02-05T17:54:44.583762Z",
     "start_time": "2020-02-05T17:54:44.555162Z"
    }
   },
   "source": [
    "#### Check the mean of uniform data (using NumPy)"
   ]
  },
  {
   "cell_type": "code",
   "execution_count": 44,
   "metadata": {},
   "outputs": [
    {
     "data": {
      "text/plain": [
       "3.5104667773951164"
      ]
     },
     "execution_count": 44,
     "metadata": {},
     "output_type": "execute_result"
    }
   ],
   "source": [
    "uniform.mean()"
   ]
  },
  {
   "cell_type": "code",
   "execution_count": 45,
   "metadata": {},
   "outputs": [
    {
     "data": {
      "text/plain": [
       "3.5104667773951164"
      ]
     },
     "execution_count": 45,
     "metadata": {},
     "output_type": "execute_result"
    }
   ],
   "source": [
    "np.mean(uniform)"
   ]
  },
  {
   "cell_type": "markdown",
   "metadata": {
    "ExecuteTime": {
     "end_time": "2020-02-05T17:54:44.758510Z",
     "start_time": "2020-02-05T17:54:44.752087Z"
    }
   },
   "source": [
    "#### Generate 100000 numbers from exponential distribution with parameter beta = 0.5\n",
    "\n",
    "The exponential distribution is sometimes parametrized in terms of the scale parameter **β = 1/λ**. We were reading about the **λ** in the previous reading."
   ]
  },
  {
   "cell_type": "code",
   "execution_count": 46,
   "metadata": {},
   "outputs": [],
   "source": [
    "size = 100000\n",
    "beta = 0.5\n",
    "\n",
    "exp_dist = np.random.exponential(beta, size)"
   ]
  },
  {
   "cell_type": "code",
   "execution_count": null,
   "metadata": {},
   "outputs": [],
   "source": []
  },
  {
   "cell_type": "markdown",
   "metadata": {
    "ExecuteTime": {
     "end_time": "2020-02-05T17:54:45.134091Z",
     "start_time": "2020-02-05T17:54:44.956351Z"
    }
   },
   "source": [
    "#### Plot histogram of exponential distribution with params `density=True`, `bins=100`\n"
   ]
  },
  {
   "cell_type": "code",
   "execution_count": 48,
   "metadata": {},
   "outputs": [
    {
     "data": {
      "text/plain": [
       "(array([1.90647761e+00, 1.70472106e+00, 1.52432036e+00, 1.36415151e+00,\n",
       "        1.23414311e+00, 1.12099459e+00, 1.01009406e+00, 8.99755521e-01,\n",
       "        8.03466881e-01, 7.27597428e-01, 6.42174043e-01, 5.82602472e-01,\n",
       "        5.27714200e-01, 4.56715378e-01, 4.19248981e-01, 3.72790649e-01,\n",
       "        3.47875495e-01, 3.13781074e-01, 2.78562661e-01, 2.50088199e-01,\n",
       "        2.24236385e-01, 2.11123146e-01, 1.88643308e-01, 1.58295527e-01,\n",
       "        1.50427583e-01, 1.42184976e-01, 1.14272511e-01, 1.06591899e-01,\n",
       "        9.49773161e-02, 8.63600448e-02, 7.38088019e-02, 7.21228140e-02,\n",
       "        6.16322229e-02, 5.93842391e-02, 5.00176398e-02, 4.70203281e-02,\n",
       "        3.54057451e-02, 3.59677410e-02, 2.84744616e-02, 3.24084333e-02,\n",
       "        2.66011418e-02, 2.39784940e-02, 2.09811823e-02, 1.85458665e-02,\n",
       "        1.85458665e-02, 1.64852146e-02, 1.44245628e-02, 1.72345426e-02,\n",
       "        8.61727128e-03, 1.14272511e-02, 8.05527533e-03, 6.93128342e-03,\n",
       "        5.80729152e-03, 7.86794335e-03, 6.93128342e-03, 6.55661946e-03,\n",
       "        4.30863564e-03, 3.55930770e-03, 4.68329961e-03, 2.99731175e-03,\n",
       "        3.74663969e-03, 2.99731175e-03, 2.24798381e-03, 3.37197572e-03,\n",
       "        2.80997977e-03, 2.62264778e-03, 2.24798381e-03, 1.87331984e-03,\n",
       "        1.31132389e-03, 2.24798381e-03, 2.06065183e-03, 5.61995953e-04,\n",
       "        7.49327938e-04, 7.49327938e-04, 1.12399191e-03, 3.74663969e-04,\n",
       "        3.74663969e-04, 7.49327938e-04, 9.36659922e-04, 1.12399191e-03,\n",
       "        5.61995953e-04, 3.74663969e-04, 1.87331984e-04, 1.87331984e-04,\n",
       "        3.74663969e-04, 3.74663969e-04, 1.87331984e-04, 1.87331984e-04,\n",
       "        0.00000000e+00, 0.00000000e+00, 1.87331984e-04, 0.00000000e+00,\n",
       "        1.87331984e-04, 3.74663969e-04, 0.00000000e+00, 1.87331984e-04,\n",
       "        1.87331984e-04, 0.00000000e+00, 0.00000000e+00, 1.87331984e-04]),\n",
       " array([6.84373812e-06, 5.33880110e-02, 1.06769178e-01, 1.60150346e-01,\n",
       "        2.13531513e-01, 2.66912680e-01, 3.20293847e-01, 3.73675015e-01,\n",
       "        4.27056182e-01, 4.80437349e-01, 5.33818517e-01, 5.87199684e-01,\n",
       "        6.40580851e-01, 6.93962019e-01, 7.47343186e-01, 8.00724353e-01,\n",
       "        8.54105520e-01, 9.07486688e-01, 9.60867855e-01, 1.01424902e+00,\n",
       "        1.06763019e+00, 1.12101136e+00, 1.17439252e+00, 1.22777369e+00,\n",
       "        1.28115486e+00, 1.33453603e+00, 1.38791719e+00, 1.44129836e+00,\n",
       "        1.49467953e+00, 1.54806070e+00, 1.60144186e+00, 1.65482303e+00,\n",
       "        1.70820420e+00, 1.76158536e+00, 1.81496653e+00, 1.86834770e+00,\n",
       "        1.92172887e+00, 1.97511003e+00, 2.02849120e+00, 2.08187237e+00,\n",
       "        2.13525354e+00, 2.18863470e+00, 2.24201587e+00, 2.29539704e+00,\n",
       "        2.34877820e+00, 2.40215937e+00, 2.45554054e+00, 2.50892171e+00,\n",
       "        2.56230287e+00, 2.61568404e+00, 2.66906521e+00, 2.72244638e+00,\n",
       "        2.77582754e+00, 2.82920871e+00, 2.88258988e+00, 2.93597104e+00,\n",
       "        2.98935221e+00, 3.04273338e+00, 3.09611455e+00, 3.14949571e+00,\n",
       "        3.20287688e+00, 3.25625805e+00, 3.30963922e+00, 3.36302038e+00,\n",
       "        3.41640155e+00, 3.46978272e+00, 3.52316389e+00, 3.57654505e+00,\n",
       "        3.62992622e+00, 3.68330739e+00, 3.73668855e+00, 3.79006972e+00,\n",
       "        3.84345089e+00, 3.89683206e+00, 3.95021322e+00, 4.00359439e+00,\n",
       "        4.05697556e+00, 4.11035673e+00, 4.16373789e+00, 4.21711906e+00,\n",
       "        4.27050023e+00, 4.32388139e+00, 4.37726256e+00, 4.43064373e+00,\n",
       "        4.48402490e+00, 4.53740606e+00, 4.59078723e+00, 4.64416840e+00,\n",
       "        4.69754957e+00, 4.75093073e+00, 4.80431190e+00, 4.85769307e+00,\n",
       "        4.91107423e+00, 4.96445540e+00, 5.01783657e+00, 5.07121774e+00,\n",
       "        5.12459890e+00, 5.17798007e+00, 5.23136124e+00, 5.28474241e+00,\n",
       "        5.33812357e+00]),\n",
       " <BarContainer object of 100 artists>)"
      ]
     },
     "execution_count": 48,
     "metadata": {},
     "output_type": "execute_result"
    },
    {
     "data": {
      "image/png": "[encoded data removed]",
      "text/plain": [
       "<Figure size 432x288 with 1 Axes>"
      ]
     },
     "metadata": {},
     "output_type": "display_data"
    }
   ],
   "source": [
    "plt.hist(x=exp_dist, density=True, bins=100)"
   ]
  },
  {
   "cell_type": "code",
   "execution_count": null,
   "metadata": {},
   "outputs": [],
   "source": []
  },
  {
   "cell_type": "markdown",
   "metadata": {
    "ExecuteTime": {
     "end_time": "2020-02-05T17:54:45.187080Z",
     "start_time": "2020-02-05T17:54:45.171406Z"
    }
   },
   "source": [
    "#### Check the mean of exponential data"
   ]
  },
  {
   "cell_type": "code",
   "execution_count": 49,
   "metadata": {},
   "outputs": [
    {
     "data": {
      "text/plain": [
       "0.502022044498225"
      ]
     },
     "execution_count": 49,
     "metadata": {},
     "output_type": "execute_result"
    }
   ],
   "source": [
    "exp_dist.mean()"
   ]
  },
  {
   "cell_type": "code",
   "execution_count": null,
   "metadata": {},
   "outputs": [],
   "source": []
  }
 ],
 "metadata": {
  "interpreter": {
   "hash": "3c65cb42372d50da30584ee8e41e7a8159294c20fb842b6953e4488c68a49248"
  },
  "kernelspec": {
   "display_name": "Python 3.7.10 64-bit ('base': conda)",
   "name": "python3"
  },
  "language_info": {
   "codemirror_mode": {
    "name": "ipython",
    "version": 3
   },
   "file_extension": ".py",
   "mimetype": "text/x-python",
   "name": "python",
   "nbconvert_exporter": "python",
   "pygments_lexer": "ipython3",
   "version": "3.7.10"
  },
  "toc": {
   "base_numbering": 1,
   "nav_menu": {},
   "number_sections": true,
   "sideBar": true,
   "skip_h1_title": false,
   "title_cell": "Table of Contents",
   "title_sidebar": "Contents",
   "toc_cell": false,
   "toc_position": {},
   "toc_section_display": true,
   "toc_window_display": false
  },
  "varInspector": {
   "cols": {
    "lenName": 16,
    "lenType": 16,
    "lenVar": 40
   },
   "kernels_config": {
    "python": {
     "delete_cmd_postfix": "",
     "delete_cmd_prefix": "del ",
     "library": "var_list.py",
     "varRefreshCmd": "print(var_dic_list())"
    },
    "r": {
     "delete_cmd_postfix": ") ",
     "delete_cmd_prefix": "rm(",
     "library": "var_list.r",
     "varRefreshCmd": "cat(var_dic_list()) "
    }
   },
   "types_to_exclude": [
    "module",
    "function",
    "builtin_function_or_method",
    "instance",
    "_Feature"
   ],
   "window_display": false
  }
 },
 "nbformat": 4,
 "nbformat_minor": 4
}
