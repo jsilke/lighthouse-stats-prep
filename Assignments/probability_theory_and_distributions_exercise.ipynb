{
 "cells": [
  {
   "cell_type": "code",
   "execution_count": 1,
   "metadata": {
    "ExecuteTime": {
     "end_time": "2020-02-05T17:54:42.062131Z",
     "start_time": "2020-02-05T17:54:41.626763Z"
    }
   },
   "outputs": [],
   "source": [
    "# import numpy\n",
    "import numpy as np\n",
    "\n",
    "# import matplotlib.pyplot\n",
    "import matplotlib.pyplot as plt\n",
    "\n",
    "# import Counter\n",
    "from collections import Counter\n",
    "\n",
    "# use style 'fivethirtyeight' (optional)\n",
    "plt.style.use('fivethirtyeight')"
   ]
  },
  {
   "cell_type": "markdown",
   "metadata": {
    "ExecuteTime": {
     "end_time": "2020-02-05T17:54:42.113199Z",
     "start_time": "2020-02-05T17:54:42.101587Z"
    }
   },
   "source": [
    "#### Create function `perform_bernoulli_trial` with parameters n and p\n",
    "\n",
    "PARAMS:\n",
    "- n (int) - number of trials\n",
    "- p (float) - probability of success\n",
    "\n",
    "RETURNS:\n",
    "- n_success (int) - number of successes\n",
    "\n"
   ]
  },
  {
   "cell_type": "code",
   "execution_count": 2,
   "metadata": {},
   "outputs": [],
   "source": [
    "def perform_bernoulli_trial(n: int = 1, p: float = 0.5) -> int:\n",
    "    \"\"\"\n",
    "    returns the number of successes over n trials given probability of success p.\n",
    "    \"\"\"\n",
    "    n_successes = np.random.binomial(n, p)\n",
    "    return n_successes"
   ]
  },
  {
   "cell_type": "code",
   "execution_count": null,
   "metadata": {},
   "outputs": [],
   "source": []
  },
  {
   "cell_type": "markdown",
   "metadata": {
    "ExecuteTime": {
     "end_time": "2020-02-05T17:54:42.610756Z",
     "start_time": "2020-02-05T17:54:42.602316Z"
    }
   },
   "source": [
    "#### Use function `perform_bernoulli_trial` with inputs n = 100, p = 0.5"
   ]
  },
  {
   "cell_type": "code",
   "execution_count": 3,
   "metadata": {},
   "outputs": [
    {
     "data": {
      "text/plain": [
       "47"
      ]
     },
     "execution_count": 3,
     "metadata": {},
     "output_type": "execute_result"
    }
   ],
   "source": [
    "perform_bernoulli_trial(100,0.5)"
   ]
  },
  {
   "cell_type": "code",
   "execution_count": null,
   "metadata": {},
   "outputs": [],
   "source": []
  },
  {
   "cell_type": "markdown",
   "metadata": {
    "ExecuteTime": {
     "end_time": "2020-02-05T17:54:43.020097Z",
     "start_time": "2020-02-05T17:54:42.962800Z"
    }
   },
   "source": [
    "#### Call function _perform_bernoulli_trial_ 1000-times with same parameters as before and store the result in `successes_list`"
   ]
  },
  {
   "cell_type": "code",
   "execution_count": 4,
   "metadata": {},
   "outputs": [],
   "source": [
    "size = 1000\n",
    "successes_list = [perform_bernoulli_trial(100,0.5) for trial in range(size)]"
   ]
  },
  {
   "cell_type": "code",
   "execution_count": 5,
   "metadata": {},
   "outputs": [
    {
     "name": "stdout",
     "output_type": "stream",
     "text": [
      "[54, 46, 53, 47, 49, 51, 49, 58, 51, 57, 46, 53, 59, 44, 47, 58, 48, 44, 47, 54, 54, 53, 54, 51, 53, 48, 65, 52, 50, 55, 50, 53, 45, 52, 55, 57, 52, 41, 52, 52, 47, 50, 47, 43, 47, 54, 47, 47, 53, 56, 47, 60, 53, 56, 54, 48, 49, 53, 48, 46, 56, 53, 50, 60, 52, 50, 51, 53, 45, 50, 41, 60, 54, 50, 53, 47, 56, 51, 55, 47, 38, 55, 45, 47, 53, 48, 47, 51, 41, 50, 49, 51, 47, 48, 54, 48, 52, 53, 46, 51, 57, 48, 43, 55, 52, 55, 37, 51, 51, 45, 54, 41, 56, 47, 54, 55, 46, 45, 44, 56, 51, 51, 47, 46, 55, 44, 49, 50, 50, 51, 50, 56, 54, 52, 56, 47, 43, 44, 43, 57, 45, 43, 57, 66, 58, 54, 48, 44, 49, 51, 51, 53, 56, 51, 46, 55, 46, 44, 50, 48, 45, 51, 54, 58, 46, 54, 48, 44, 45, 49, 58, 56, 51, 45, 50, 42, 55, 52, 46, 53, 46, 54, 50, 51, 44, 47, 41, 58, 42, 45, 48, 56, 47, 55, 42, 47, 42, 61, 46, 50, 38, 54, 47, 41, 51, 53, 49, 50, 57, 50, 53, 54, 46, 50, 53, 56, 45, 49, 54, 51, 50, 48, 45, 50, 51, 53, 51, 53, 57, 51, 51, 45, 44, 50, 40, 50, 46, 55, 52, 52, 55, 49, 44, 46, 48, 44, 51, 44, 38, 58, 48, 42, 50, 47, 56, 47, 52, 40, 58, 50, 51, 48, 51, 55, 55, 52, 42, 51, 51, 55, 48, 49, 46, 51, 51, 48, 49, 53, 51, 49, 46, 49, 46, 38, 51, 47, 45, 50, 62, 43, 48, 54, 52, 58, 56, 48, 54, 51, 51, 54, 53, 43, 53, 47, 50, 56, 55, 56, 52, 54, 45, 59, 48, 45, 53, 54, 51, 48, 49, 49, 53, 49, 52, 48, 40, 46, 46, 52, 56, 60, 53, 53, 50, 50, 59, 48, 51, 46, 57, 56, 49, 47, 45, 56, 51, 49, 44, 44, 53, 46, 48, 45, 47, 53, 55, 43, 44, 47, 53, 47, 52, 47, 50, 57, 48, 44, 53, 51, 58, 48, 42, 48, 46, 36, 55, 46, 43, 42, 50, 49, 52, 44, 55, 51, 49, 54, 49, 50, 53, 53, 54, 43, 48, 45, 42, 47, 46, 46, 53, 47, 46, 43, 52, 51, 51, 53, 53, 49, 53, 48, 44, 45, 48, 42, 45, 52, 55, 50, 45, 52, 48, 44, 59, 53, 56, 44, 53, 52, 49, 50, 42, 46, 45, 55, 60, 43, 61, 53, 47, 59, 57, 45, 44, 52, 53, 46, 45, 47, 55, 48, 48, 51, 55, 48, 48, 51, 54, 59, 58, 51, 46, 59, 58, 54, 48, 55, 52, 48, 53, 39, 41, 55, 52, 49, 52, 50, 43, 55, 50, 51, 58, 51, 45, 53, 53, 53, 55, 51, 57, 48, 55, 50, 55, 45, 40, 50, 49, 52, 55, 48, 44, 54, 48, 56, 51, 56, 46, 44, 41, 48, 38, 47, 55, 43, 41, 46, 46, 44, 48, 48, 54, 46, 48, 45, 47, 57, 56, 49, 56, 56, 48, 48, 52, 49, 53, 51, 48, 54, 53, 56, 43, 58, 49, 43, 54, 50, 51, 52, 44, 45, 41, 57, 48, 55, 47, 50, 52, 46, 58, 50, 55, 50, 43, 52, 53, 43, 46, 57, 54, 55, 52, 52, 51, 40, 49, 47, 58, 49, 50, 51, 42, 49, 49, 41, 49, 55, 41, 48, 46, 46, 58, 55, 51, 51, 49, 52, 52, 52, 48, 48, 52, 44, 41, 50, 51, 54, 49, 40, 49, 51, 55, 50, 42, 38, 52, 52, 49, 54, 51, 45, 48, 41, 44, 48, 56, 43, 45, 46, 43, 51, 57, 62, 46, 45, 45, 49, 58, 50, 55, 55, 51, 53, 52, 51, 51, 40, 52, 45, 50, 42, 49, 49, 53, 48, 53, 52, 47, 50, 43, 48, 46, 51, 52, 51, 49, 50, 52, 52, 44, 51, 52, 49, 47, 46, 52, 52, 53, 42, 54, 49, 62, 51, 47, 49, 46, 59, 46, 53, 44, 51, 52, 53, 48, 48, 49, 56, 51, 43, 38, 52, 46, 42, 47, 56, 53, 44, 55, 51, 53, 44, 46, 43, 50, 44, 46, 55, 49, 48, 59, 42, 49, 47, 53, 49, 44, 58, 48, 53, 54, 60, 62, 47, 43, 46, 51, 47, 47, 40, 41, 52, 45, 47, 52, 48, 48, 57, 45, 42, 46, 50, 50, 47, 45, 50, 45, 43, 50, 55, 47, 51, 42, 47, 56, 52, 46, 56, 52, 50, 48, 48, 57, 43, 50, 46, 49, 52, 59, 45, 56, 46, 59, 46, 46, 59, 45, 54, 52, 51, 56, 57, 51, 58, 60, 56, 48, 50, 52, 39, 50, 50, 57, 55, 50, 50, 57, 53, 48, 57, 48, 52, 48, 56, 51, 45, 54, 48, 44, 41, 43, 50, 47, 45, 48, 55, 52, 49, 49, 58, 56, 39, 56, 51, 42, 49, 52, 42, 56, 45, 49, 50, 44, 55, 54, 43, 55, 43, 52, 48, 54, 44, 37, 49, 50, 44, 54, 57, 60, 48, 52, 45, 44, 47, 50, 39, 55, 55, 51, 46, 53, 48, 55, 52, 44, 45, 54, 47, 44, 51, 52, 48, 54, 50, 48, 43, 49, 55, 49, 53, 50, 48, 49, 51, 49, 45, 52, 49, 53, 46, 49, 53, 46, 61, 55, 42, 40, 49, 54, 53, 55, 41, 53, 55, 46, 54, 50, 45, 39, 51, 43, 50, 44, 50, 43, 49, 54, 48, 51, 54, 53, 48, 56, 50, 54, 53, 50, 46, 53, 52, 43, 47, 53, 53, 43, 50, 61, 52, 53, 50, 48, 51, 51, 53, 51, 44, 55, 52, 51, 42, 63, 54, 44, 58, 51, 49, 49, 58, 51, 57, 44, 50, 46, 53, 49, 49, 50, 46, 52, 48, 51, 60, 52, 47, 45, 40, 59, 53, 46, 56, 42, 52, 54, 50, 57, 50, 46, 54, 50, 52, 46, 42] 1000\n"
     ]
    }
   ],
   "source": [
    "print(successes_list, len(successes_list))"
   ]
  },
  {
   "cell_type": "markdown",
   "metadata": {
    "ExecuteTime": {
     "end_time": "2020-02-05T17:54:43.296477Z",
     "start_time": "2020-02-05T17:54:43.289959Z"
    }
   },
   "source": [
    "#### Count occurence of each number from `successes_list` using Counter and store the result in `count_occurence`\n",
    "\n",
    "You can find for more info about Counter [**here**](https://docs.python.org/2/library/collections.html#collections.Counter)."
   ]
  },
  {
   "cell_type": "code",
   "execution_count": 6,
   "metadata": {},
   "outputs": [],
   "source": [
    "count_occurence = Counter(successes_list)"
   ]
  },
  {
   "cell_type": "code",
   "execution_count": 7,
   "metadata": {},
   "outputs": [
    {
     "data": {
      "text/plain": [
       "Counter({54: 51,\n",
       "         46: 64,\n",
       "         53: 74,\n",
       "         47: 55,\n",
       "         49: 67,\n",
       "         51: 88,\n",
       "         58: 23,\n",
       "         57: 24,\n",
       "         59: 13,\n",
       "         44: 45,\n",
       "         48: 80,\n",
       "         65: 1,\n",
       "         52: 74,\n",
       "         50: 78,\n",
       "         55: 55,\n",
       "         45: 48,\n",
       "         41: 17,\n",
       "         43: 34,\n",
       "         56: 40,\n",
       "         60: 9,\n",
       "         38: 7,\n",
       "         37: 2,\n",
       "         66: 1,\n",
       "         42: 25,\n",
       "         61: 4,\n",
       "         40: 10,\n",
       "         62: 4,\n",
       "         36: 1,\n",
       "         39: 5,\n",
       "         63: 1})"
      ]
     },
     "execution_count": 7,
     "metadata": {},
     "output_type": "execute_result"
    }
   ],
   "source": [
    "count_occurence"
   ]
  },
  {
   "cell_type": "markdown",
   "metadata": {
    "ExecuteTime": {
     "end_time": "2020-02-05T17:54:43.571225Z",
     "start_time": "2020-02-05T17:54:43.568147Z"
    }
   },
   "source": [
    "#### Count the probability for each number from `count_occurence` and store the result in `probas`\n"
   ]
  },
  {
   "cell_type": "code",
   "execution_count": 8,
   "metadata": {},
   "outputs": [],
   "source": [
    "probas = [value/size for value in count_occurence.values()]"
   ]
  },
  {
   "cell_type": "code",
   "execution_count": 9,
   "metadata": {},
   "outputs": [
    {
     "data": {
      "text/plain": [
       "[0.051,\n",
       " 0.064,\n",
       " 0.074,\n",
       " 0.055,\n",
       " 0.067,\n",
       " 0.088,\n",
       " 0.023,\n",
       " 0.024,\n",
       " 0.013,\n",
       " 0.045,\n",
       " 0.08,\n",
       " 0.001,\n",
       " 0.074,\n",
       " 0.078,\n",
       " 0.055,\n",
       " 0.048,\n",
       " 0.017,\n",
       " 0.034,\n",
       " 0.04,\n",
       " 0.009,\n",
       " 0.007,\n",
       " 0.002,\n",
       " 0.001,\n",
       " 0.025,\n",
       " 0.004,\n",
       " 0.01,\n",
       " 0.004,\n",
       " 0.001,\n",
       " 0.005,\n",
       " 0.001]"
      ]
     },
     "execution_count": 9,
     "metadata": {},
     "output_type": "execute_result"
    }
   ],
   "source": [
    "probas"
   ]
  },
  {
   "cell_type": "markdown",
   "metadata": {},
   "source": [
    "Below you have some information about how to do plots in Python. We will be covering all of this during the bootcamp. But you can find these basics here so we can visualize the distributions."
   ]
  },
  {
   "cell_type": "code",
   "execution_count": 10,
   "metadata": {
    "ExecuteTime": {
     "end_time": "2020-02-05T17:54:44.056628Z",
     "start_time": "2020-02-05T17:54:43.850076Z"
    }
   },
   "outputs": [
    {
     "data": {
      "text/plain": [
       "Text(0, 0.5, 'probability')"
      ]
     },
     "execution_count": 10,
     "metadata": {},
     "output_type": "execute_result"
    },
    {
     "data": {
      "image/png": "[encoded data removed]",
      "text/plain": [
       "<Figure size 432x288 with 1 Axes>"
      ]
     },
     "metadata": {},
     "output_type": "display_data"
    }
   ],
   "source": [
    "# plot distribution (PMF) of 'succes_list'\n",
    "plt.scatter(x=count_occurence.keys(), y=probas)\n",
    "plt.xlabel('number of succeess out of 100')\n",
    "plt.ylabel('probability')\n"
   ]
  },
  {
   "cell_type": "markdown",
   "metadata": {
    "ExecuteTime": {
     "end_time": "2020-02-05T17:54:44.112264Z",
     "start_time": "2020-02-05T17:54:44.096570Z"
    }
   },
   "source": [
    "#### Generate 100000 numbers from uniform distribution with parameters a = 1, b = 6\n"
   ]
  },
  {
   "cell_type": "code",
   "execution_count": 11,
   "metadata": {},
   "outputs": [],
   "source": [
    "a = 1\n",
    "b = 6\n",
    "size = 100000\n",
    "uniform = np.random.uniform(a, b, size)"
   ]
  },
  {
   "cell_type": "code",
   "execution_count": null,
   "metadata": {},
   "outputs": [],
   "source": []
  },
  {
   "cell_type": "code",
   "execution_count": 12,
   "metadata": {
    "ExecuteTime": {
     "end_time": "2020-02-05T17:54:44.515039Z",
     "start_time": "2020-02-05T17:54:44.330746Z"
    },
    "collapsed": true,
    "jupyter": {
     "outputs_hidden": true
    }
   },
   "outputs": [
    {
     "data": {
      "text/plain": [
       "Text(0.5, 0, 'value')"
      ]
     },
     "execution_count": 12,
     "metadata": {},
     "output_type": "execute_result"
    },
    {
     "data": {
      "image/png": "[encoded data removed]",
      "text/plain": [
       "<Figure size 432x288 with 1 Axes>"
      ]
     },
     "metadata": {},
     "output_type": "display_data"
    }
   ],
   "source": [
    "# plot histogram of uniform distribution with paramsdensity=True, bins=6\n",
    "plt.hist(uniform, density=True, bins=6)\n",
    "plt.ylabel('density')\n",
    "plt.xlabel('value')"
   ]
  },
  {
   "cell_type": "markdown",
   "metadata": {
    "ExecuteTime": {
     "end_time": "2020-02-05T17:54:44.583762Z",
     "start_time": "2020-02-05T17:54:44.555162Z"
    }
   },
   "source": [
    "#### Check the mean of uniform data (using NumPy)"
   ]
  },
  {
   "cell_type": "code",
   "execution_count": 13,
   "metadata": {},
   "outputs": [
    {
     "data": {
      "text/plain": [
       "3.4909175766426"
      ]
     },
     "execution_count": 13,
     "metadata": {},
     "output_type": "execute_result"
    }
   ],
   "source": [
    "uniform.mean()"
   ]
  },
  {
   "cell_type": "code",
   "execution_count": 14,
   "metadata": {},
   "outputs": [
    {
     "data": {
      "text/plain": [
       "3.4909175766426"
      ]
     },
     "execution_count": 14,
     "metadata": {},
     "output_type": "execute_result"
    }
   ],
   "source": [
    "np.mean(uniform)"
   ]
  },
  {
   "cell_type": "markdown",
   "metadata": {
    "ExecuteTime": {
     "end_time": "2020-02-05T17:54:44.758510Z",
     "start_time": "2020-02-05T17:54:44.752087Z"
    }
   },
   "source": [
    "#### Generate 100000 numbers from exponential distribution with parameter beta = 0.5\n",
    "\n",
    "The exponential distribution is sometimes parametrized in terms of the scale parameter **β = 1/λ**. We were reading about the **λ** in the previous reading."
   ]
  },
  {
   "cell_type": "code",
   "execution_count": 15,
   "metadata": {},
   "outputs": [],
   "source": [
    "size = 100000\n",
    "beta = 0.5\n",
    "\n",
    "exp_dist = np.random.exponential(beta, size)"
   ]
  },
  {
   "cell_type": "code",
   "execution_count": null,
   "metadata": {},
   "outputs": [],
   "source": []
  },
  {
   "cell_type": "markdown",
   "metadata": {
    "ExecuteTime": {
     "end_time": "2020-02-05T17:54:45.134091Z",
     "start_time": "2020-02-05T17:54:44.956351Z"
    }
   },
   "source": [
    "#### Plot histogram of exponential distribution with params `density=True`, `bins=100`\n"
   ]
  },
  {
   "cell_type": "code",
   "execution_count": 16,
   "metadata": {},
   "outputs": [
    {
     "data": {
      "text/plain": [
       "(array([1.85407694e+00, 1.69269560e+00, 1.46913853e+00, 1.35012626e+00,\n",
       "        1.16428798e+00, 1.05095936e+00, 9.48481348e-01, 8.29985767e-01,\n",
       "        7.48003358e-01, 6.73771388e-01, 5.95578083e-01, 5.37363684e-01,\n",
       "        4.69159832e-01, 4.25068452e-01, 3.80115913e-01, 3.36024534e-01,\n",
       "        2.95894490e-01, 2.67648450e-01, 2.39230178e-01, 2.07022804e-01,\n",
       "        1.78776764e-01, 1.63620352e-01, 1.43813678e-01, 1.36579936e-01,\n",
       "        1.16945494e-01, 1.00066763e-01, 9.16273973e-02, 8.31880318e-02,\n",
       "        7.16484912e-02, 7.02706356e-02, 5.87310949e-02, 5.14973530e-02,\n",
       "        4.73637862e-02, 3.97855804e-02, 3.63409414e-02, 3.30685344e-02,\n",
       "        2.68681842e-02, 2.79015759e-02, 2.20456896e-02, 2.34235452e-02,\n",
       "        1.80843547e-02, 1.56731074e-02, 1.32618601e-02, 1.46397157e-02,\n",
       "        1.05061489e-02, 1.01616850e-02, 8.95606140e-03, 8.09490165e-03,\n",
       "        6.88927800e-03, 7.06150995e-03, 6.02811825e-03, 3.10017510e-03,\n",
       "        5.16695850e-03, 3.10017510e-03, 3.96133485e-03, 2.23901535e-03,\n",
       "        2.41124730e-03, 2.58347925e-03, 2.75571120e-03, 2.41124730e-03,\n",
       "        2.06678340e-03, 1.55008755e-03, 1.55008755e-03, 1.37785560e-03,\n",
       "        2.06678340e-03, 8.61159750e-04, 1.72231950e-04, 6.88927800e-04,\n",
       "        6.88927800e-04, 1.03339170e-03, 6.88927800e-04, 1.72231950e-04,\n",
       "        5.16695850e-04, 0.00000000e+00, 8.61159750e-04, 1.72231950e-04,\n",
       "        3.44463900e-04, 3.44463900e-04, 0.00000000e+00, 6.88927800e-04,\n",
       "        1.72231950e-04, 5.16695850e-04, 0.00000000e+00, 5.16695850e-04,\n",
       "        1.72231950e-04, 0.00000000e+00, 1.72231950e-04, 1.72231950e-04,\n",
       "        0.00000000e+00, 1.72231950e-04, 0.00000000e+00, 0.00000000e+00,\n",
       "        0.00000000e+00, 0.00000000e+00, 0.00000000e+00, 0.00000000e+00,\n",
       "        0.00000000e+00, 0.00000000e+00, 0.00000000e+00, 1.72231950e-04]),\n",
       " array([1.34044189e-05, 5.80746411e-02, 1.16135878e-01, 1.74197114e-01,\n",
       "        2.32258351e-01, 2.90319588e-01, 3.48380824e-01, 4.06442061e-01,\n",
       "        4.64503298e-01, 5.22564534e-01, 5.80625771e-01, 6.38687007e-01,\n",
       "        6.96748244e-01, 7.54809481e-01, 8.12870717e-01, 8.70931954e-01,\n",
       "        9.28993191e-01, 9.87054427e-01, 1.04511566e+00, 1.10317690e+00,\n",
       "        1.16123814e+00, 1.21929937e+00, 1.27736061e+00, 1.33542185e+00,\n",
       "        1.39348308e+00, 1.45154432e+00, 1.50960556e+00, 1.56766679e+00,\n",
       "        1.62572803e+00, 1.68378927e+00, 1.74185050e+00, 1.79991174e+00,\n",
       "        1.85797298e+00, 1.91603421e+00, 1.97409545e+00, 2.03215669e+00,\n",
       "        2.09021792e+00, 2.14827916e+00, 2.20634040e+00, 2.26440163e+00,\n",
       "        2.32246287e+00, 2.38052411e+00, 2.43858534e+00, 2.49664658e+00,\n",
       "        2.55470782e+00, 2.61276905e+00, 2.67083029e+00, 2.72889153e+00,\n",
       "        2.78695276e+00, 2.84501400e+00, 2.90307524e+00, 2.96113647e+00,\n",
       "        3.01919771e+00, 3.07725895e+00, 3.13532018e+00, 3.19338142e+00,\n",
       "        3.25144266e+00, 3.30950389e+00, 3.36756513e+00, 3.42562637e+00,\n",
       "        3.48368760e+00, 3.54174884e+00, 3.59981008e+00, 3.65787131e+00,\n",
       "        3.71593255e+00, 3.77399379e+00, 3.83205502e+00, 3.89011626e+00,\n",
       "        3.94817750e+00, 4.00623873e+00, 4.06429997e+00, 4.12236121e+00,\n",
       "        4.18042244e+00, 4.23848368e+00, 4.29654492e+00, 4.35460615e+00,\n",
       "        4.41266739e+00, 4.47072863e+00, 4.52878986e+00, 4.58685110e+00,\n",
       "        4.64491234e+00, 4.70297357e+00, 4.76103481e+00, 4.81909605e+00,\n",
       "        4.87715728e+00, 4.93521852e+00, 4.99327976e+00, 5.05134099e+00,\n",
       "        5.10940223e+00, 5.16746347e+00, 5.22552470e+00, 5.28358594e+00,\n",
       "        5.34164718e+00, 5.39970841e+00, 5.45776965e+00, 5.51583089e+00,\n",
       "        5.57389212e+00, 5.63195336e+00, 5.69001459e+00, 5.74807583e+00,\n",
       "        5.80613707e+00]),\n",
       " <BarContainer object of 100 artists>)"
      ]
     },
     "execution_count": 16,
     "metadata": {},
     "output_type": "execute_result"
    },
    {
     "data": {
      "image/png": "[encoded data removed]",
      "text/plain": [
       "<Figure size 432x288 with 1 Axes>"
      ]
     },
     "metadata": {},
     "output_type": "display_data"
    }
   ],
   "source": [
    "plt.hist(exp_dist, density=True, bins=100)"
   ]
  },
  {
   "cell_type": "code",
   "execution_count": null,
   "metadata": {},
   "outputs": [],
   "source": []
  },
  {
   "cell_type": "markdown",
   "metadata": {
    "ExecuteTime": {
     "end_time": "2020-02-05T17:54:45.187080Z",
     "start_time": "2020-02-05T17:54:45.171406Z"
    }
   },
   "source": [
    "#### Check the mean of exponential data"
   ]
  },
  {
   "cell_type": "code",
   "execution_count": 17,
   "metadata": {},
   "outputs": [
    {
     "data": {
      "text/plain": [
       "0.5026277320764402"
      ]
     },
     "execution_count": 17,
     "metadata": {},
     "output_type": "execute_result"
    }
   ],
   "source": [
    "exp_dist.mean()"
   ]
  },
  {
   "cell_type": "code",
   "execution_count": null,
   "metadata": {},
   "outputs": [],
   "source": []
  }
 ],
 "metadata": {
  "interpreter": {
   "hash": "3c65cb42372d50da30584ee8e41e7a8159294c20fb842b6953e4488c68a49248"
  },
  "kernelspec": {
   "display_name": "Python 3.7.10 64-bit ('base': conda)",
   "name": "python3"
  },
  "language_info": {
   "codemirror_mode": {
    "name": "ipython",
    "version": 3
   },
   "file_extension": ".py",
   "mimetype": "text/x-python",
   "name": "python",
   "nbconvert_exporter": "python",
   "pygments_lexer": "ipython3",
   "version": "3.7.10"
  },
  "toc": {
   "base_numbering": 1,
   "nav_menu": {},
   "number_sections": true,
   "sideBar": true,
   "skip_h1_title": false,
   "title_cell": "Table of Contents",
   "title_sidebar": "Contents",
   "toc_cell": false,
   "toc_position": {},
   "toc_section_display": true,
   "toc_window_display": false
  },
  "varInspector": {
   "cols": {
    "lenName": 16,
    "lenType": 16,
    "lenVar": 40
   },
   "kernels_config": {
    "python": {
     "delete_cmd_postfix": "",
     "delete_cmd_prefix": "del ",
     "library": "var_list.py",
     "varRefreshCmd": "print(var_dic_list())"
    },
    "r": {
     "delete_cmd_postfix": ") ",
     "delete_cmd_prefix": "rm(",
     "library": "var_list.r",
     "varRefreshCmd": "cat(var_dic_list()) "
    }
   },
   "types_to_exclude": [
    "module",
    "function",
    "builtin_function_or_method",
    "instance",
    "_Feature"
   ],
   "window_display": false
  }
 },
 "nbformat": 4,
 "nbformat_minor": 4
}
