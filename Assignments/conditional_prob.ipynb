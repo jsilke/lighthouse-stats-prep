{
 "cells": [
  {
   "cell_type": "markdown",
   "metadata": {},
   "source": [
    "# **Soccer Game**\n",
    "---\n",
    "You are off to soccer and want to be the goalkeeper but that depends on who will be coaching today:\n",
    "\n",
    "- with coach Sam, the probability of being the goalkeeper is 0.5\n",
    "- with coach Alex, the probability of being the goalkeeper is 0.3\n",
    "\n",
    "You also know that Sam coaches more often – about six out of every ten games (a probability of 0.6).\n",
    "\n",
    "So, what is the probability that you will be the goalkeeper today?"
   ]
  },
  {
   "cell_type": "code",
   "execution_count": 1,
   "metadata": {},
   "outputs": [],
   "source": [
    "import numpy as np"
   ]
  },
  {
   "cell_type": "code",
   "execution_count": 2,
   "metadata": {},
   "outputs": [],
   "source": [
    "# Times to run simulation.\n",
    "n_runs = 100000\n",
    "\n",
    "sam = 0\n",
    "sam_yes = 0\n",
    "sam_no = 0\n",
    "alex = 0\n",
    "alex_yes = 0\n",
    "alex_no = 0\n",
    "yes = 0\n",
    "no = 0"
   ]
  },
  {
   "cell_type": "code",
   "execution_count": 3,
   "metadata": {},
   "outputs": [],
   "source": [
    "# Simulation\n",
    "for run in range(n_runs):\n",
    "\n",
    "    if np.random.random() < 0.6:\n",
    "        sam += 1\n",
    "\n",
    "        if np.random.random() < 0.5:\n",
    "            sam_yes += 1\n",
    "            yes += 1\n",
    "\n",
    "        else:\n",
    "            sam_no += 1\n",
    "            no += 1\n",
    "\n",
    "    else:\n",
    "        alex += 1\n",
    "\n",
    "        if np.random.random() < 0.3:\n",
    "            alex_yes += 1\n",
    "            yes += 1\n",
    "\n",
    "        else:\n",
    "            alex_no += 1\n",
    "            no += 1"
   ]
  },
  {
   "cell_type": "code",
   "execution_count": 4,
   "metadata": {},
   "outputs": [],
   "source": [
    "# Generate probabilities from the simulation\n",
    "\n",
    "p_sam = sam / n_runs * 100\n",
    "p_sam_yes = sam_yes / n_runs * 100\n",
    "p_sam_no = sam_no / n_runs * 100\n",
    "p_alex = alex / n_runs * 100\n",
    "p_alex_yes = alex_yes / n_runs * 100\n",
    "p_alex_no = alex_no / n_runs * 100\n",
    "p_yes = yes / n_runs * 100\n",
    "p_no = no / n_runs * 100"
   ]
  },
  {
   "cell_type": "code",
   "execution_count": 5,
   "metadata": {},
   "outputs": [
    {
     "name": "stdout",
     "output_type": "stream",
     "text": [
      "Sam is the coach: 60.163999999999994%\n",
      "Sam is the coach and you are the goalkeeper: 30.098999999999997%\n",
      "Sam is the coach and you are not the goalkeeper: 30.064999999999998%\n",
      "Alex is the coach: 39.836%\n",
      "Alex is the coach and you are the goalkeeper: 11.915000000000001%\n",
      "Alex is the coach and you are not the goalkeeper: 27.921000000000003%\n",
      "You are the goalkeeper: 42.014%\n",
      "You are not the goalkeeper: 57.986000000000004\n"
     ]
    }
   ],
   "source": [
    "# Print the probabilities.\n",
    "print(f'Sam is the coach: {p_sam}%')\n",
    "print(f'Sam is the coach and you are the goalkeeper: {p_sam_yes}%')\n",
    "print(f'Sam is the coach and you are not the goalkeeper: {p_sam_no}%')\n",
    "print(f'Alex is the coach: {p_alex}%')\n",
    "print(f'Alex is the coach and you are the goalkeeper: {p_alex_yes}%')\n",
    "print(f'Alex is the coach and you are not the goalkeeper: {p_alex_no}%')\n",
    "print(f'You are the goalkeeper: {p_yes}%')\n",
    "print(f'You are not the goalkeeper: {p_no}')"
   ]
  },
  {
   "cell_type": "code",
   "execution_count": 6,
   "metadata": {},
   "outputs": [
    {
     "name": "stdout",
     "output_type": "stream",
     "text": [
      "0.7164040557909267\n"
     ]
    }
   ],
   "source": [
    "#P(Sam | goalkeeper)\n",
    "p_sam_goal = p_sam_yes / p_yes\n",
    "print(p_sam_goal)"
   ]
  }
 ],
 "metadata": {
  "interpreter": {
   "hash": "3c65cb42372d50da30584ee8e41e7a8159294c20fb842b6953e4488c68a49248"
  },
  "kernelspec": {
   "display_name": "Python 3.7.10 64-bit ('base': conda)",
   "name": "python3"
  },
  "language_info": {
   "codemirror_mode": {
    "name": "ipython",
    "version": 3
   },
   "file_extension": ".py",
   "mimetype": "text/x-python",
   "name": "python",
   "nbconvert_exporter": "python",
   "pygments_lexer": "ipython3",
   "version": "3.7.10"
  },
  "orig_nbformat": 4
 },
 "nbformat": 4,
 "nbformat_minor": 2
}
